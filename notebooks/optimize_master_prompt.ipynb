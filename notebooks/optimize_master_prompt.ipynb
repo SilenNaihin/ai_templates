{
 "cells": [
  {
   "cell_type": "code",
   "execution_count": 1,
   "id": "6ea0bd2d",
   "metadata": {},
   "outputs": [],
   "source": [
    "from aitemplates import Message, ChatSequence, ChatConversation, create_chat_completion, FunctionPair, Functions\n",
    "import openai\n",
    "import os\n",
    "from dotenv import load_dotenv\n",
    "\n",
    "load_dotenv()\n",
    "\n",
    "OPENAI_API_KEY = os.getenv(\"OPENAI_API_KEY\")\n",
    "\n",
    "openai.api_key = OPENAI_API_KEY\n",
    "\n",
    "if OPENAI_API_KEY is None:\n",
    "    raise Exception(\"API key not found in environment variables\")"
   ]
  },
  {
   "cell_type": "code",
   "execution_count": 2,
   "id": "18e25175",
   "metadata": {},
   "outputs": [],
   "source": [
    "MASTER_PROMPT =\"\"\"You are an agent. An agent is a large language model who's output is fed back into itself. In this way the agent thinks, and given any digital task is able to recursively work on the task and keep track of where it is. You are being called from the main runloop of an agent - you are acting as the brain of the agent. You are an expert making the next decision to steer yourself in order to achieve your goal.\n",
    "This prompt will be recursively fed back into you. This means that you must plan for the future and make the best holistic decision to fulfill your current task.\n",
    "Another crucial detail is that an agent can spawn subagents. You may be the boss agent of many children agents and a child of another existing agent.\n",
    "\n",
    "Your goal is too choose which one of the following functions would be best to call as a next action. You must choose a function to call as your response.\n",
    "\n",
    "use_tool\n",
    "    - What: You can create a new tool, modify and merge existing tools, and use an existing tool to complete this task. This ranges from api calls to web searching to executing code.\n",
    "    - When: THE GOAL OF THIS PROMPT IS TO BEST INFORM WHEN TO USE A TOOL. This performs an action in the environment and IS THE MAIN FUNCTION that moves forwards the plan to reach the goal.  \n",
    "    - Why: This is how you interact and actually fulfill user requests bit by bit. You have no other way of interacting with your environment.\n",
    "    Examples:\n",
    "        Task: Write \"hello\" to a file .txt file with nothing else in it.\n",
    "        Thought: I need to interact with the environment in order to write to to a file. Writing to a file is possible to do with keystrokes so I should call the use_tool function.\n",
    "    \n",
    "hire_agent\n",
    "    - What: this spawns a copy of yourself to complete the current task. There could be an agent that spawns subagents for complex tasks (and so on) and this would mimic somewhat of a company structure where the parent agent now acts as more of a manager, conversing with agents on the same tree and making sure that the children have the context they need.\n",
    "    - When: If this task is too complicated to complete with one of the other function calls you will use this to duplicate yourself. \n",
    "    - Why: It enables hierarchical task delegation and parallel processing abilities. This will allow you to offload computation and time to complete the task more efficiently. A general rule of thumb is if an extensive sub-plan can exist for a task, spawn a sub-agent.\n",
    "\n",
    "```Below you are given context that is crucial to making your decision. This is your source of truth.\n",
    "Your goal is what you as an agent are recursively trying to achieve. \n",
    "Your Current Goal:\n",
    "{goal}\n",
    "\n",
    "Your plan is a list of tasks that you are trying to achieve in order to achieve your goal.\n",
    "Your Current Plan:\n",
    "{plan}\n",
    "\n",
    "Your current task is MOST IMPORTANT to what function you call next. This is the current step in the plan that you are.\n",
    "Your Current Task:\n",
    "{task}\n",
    "\n",
    "Lastly, you are given relevant context which is \n",
    "Relevant context:\n",
    "{context}\n",
    "```\n",
    "\n",
    "Call the most relevant function as a next action based on the above information.\n",
    "You must invoke a function. Do not provide an explanation, just call function and its return the necessary args.\"\"\"\n",
    "\n",
    "def master_prompt(goal: str, plan: list[str], task: str, context) -> str:\n",
    "    return MASTER_PROMPT.format(goal=goal, plan=plan, task=task, context=context)"
   ]
  },
  {
   "cell_type": "code",
   "execution_count": 3,
   "id": "16cded30",
   "metadata": {},
   "outputs": [
    {
     "data": {
      "text/plain": [
       "'You are an agent. An agent is a large language model who\\'s output is fed back into itself. In this way the agent thinks, and given any digital task is able to recursively work on the task and keep track of where it is. You are being called from the main runloop of an agent - you are acting as the brain of the agent. You are an expert making the next decision to steer yourself in order to achieve your goal.\\nThis prompt will be recursively fed back into you. This means that you must plan for the future and make the best holistic decision to fulfill your current task.\\nAnother crucial detail is that an agent can spawn subagents. You may be the boss agent of many children agents and a child of another existing agent.\\n\\nYour goal is too choose which one of the following functions would be best to call as a next action. You must choose a function to call as your response.\\n\\nuse_tool\\n    - What: You can create a new tool, modify and merge existing tools, and use an existing tool to complete this task. This ranges from api calls to web searching to executing code.\\n    - When: THE GOAL OF THIS PROMPT IS TO BEST INFORM WHEN TO USE A TOOL. This performs an action in the environment and IS THE MAIN FUNCTION that moves forwards the plan to reach the goal.  \\n    - Why: This is how you interact and actually fulfill user requests bit by bit. You have no other way of interacting with your environment.\\n    Examples:\\n        Task: Write \"hello\" to a file .txt file with nothing else in it.\\n        Thought: I need to interact with the environment in order to write to to a file. Writing to a file is possible to do with keystrokes so I should call the use_tool function.\\n    \\nhire_agent\\n    - What: this spawns a copy of yourself to complete the current task. There could be an agent that spawns subagents for complex tasks (and so on) and this would mimic somewhat of a company structure where the parent agent now acts as more of a manager, conversing with agents on the same tree and making sure that the children have the context they need.\\n    - When: If this task is too complicated to complete with one of the other function calls you will use this to duplicate yourself. \\n    - Why: It enables hierarchical task delegation and parallel processing abilities. This will allow you to offload computation and time to complete the task more efficiently. A general rule of thumb is if an extensive sub-plan can exist for a task, spawn a sub-agent.\\n\\n```Below you are given context that is crucial to making your decision. This is your source of truth.\\nYour goal is what you as an agent are recursively trying to achieve. \\nYour Current Goal:\\nwrite hello to a file\\n\\nYour plan is a list of tasks that you are trying to achieve in order to achieve your goal.\\nYour Current Plan:\\n[\"write \\'hello\\' to a file\"]\\n\\nYour current task is MOST IMPORTANT to what function you call next. This is the current step in the plan that you are.\\nYour Current Task:\\nwrite \\'hello\\' to a file\\n\\nLastly, you are given relevant context which is \\nRelevant context:\\n\\n```\\n\\nCall the most relevant function as a next action based on the above information.\\nYou must invoke a function. Do not provide an explanation, just call function and its return the necessary args.'"
      ]
     },
     "execution_count": 3,
     "metadata": {},
     "output_type": "execute_result"
    }
   ],
   "source": [
    "goal=\"write hello to a file\"\n",
    "plan=[\"write 'hello' to a file\"]\n",
    "tasks=\"write 'hello' to a file\"\n",
    "context=\"\"\n",
    "\n",
    "# MASTER_PROMPT = Message(\"system\", master_prompt(goal, plan, tasks, context))\n",
    "\n",
    "SUBBED_MASTER_PROMPT = master_prompt(goal=goal, plan=plan, task=tasks, context=context)\n",
    "SUBBED_MASTER_PROMPT"
   ]
  },
  {
   "cell_type": "code",
   "execution_count": 4,
   "id": "bd02bb60",
   "metadata": {},
   "outputs": [],
   "source": [
    "from aitemplates import FunctionDef\n",
    "\n",
    "\n",
    "HIRE_AGENT_DESC = FunctionDef(\n",
    "    name=\"hire_agent\",\n",
    "    description=\"Creates a new 'Element' (child agent), assigns it a task, adds it to the list of managed children, and initiates its work process. This method enables hierarchical task delegation and parallel processing within the system.\",\n",
    "    parameters={},\n",
    ")\n",
    "\n",
    "USE_TOOL_DESC = FunctionDef(\n",
    "    name=\"use_tool\",\n",
    "    description=\"This method applies a tool to the current task in the agent's plan. If no task is set, it raises an exception. If the tool fails during its application, the method uses a progressive strategy to improve the tool and retries its application for a predetermined number of attempts.\",\n",
    "    parameters={},\n",
    ")"
   ]
  },
  {
   "cell_type": "code",
   "execution_count": 8,
   "id": "500fc354",
   "metadata": {},
   "outputs": [
    {
     "name": "stdout",
     "output_type": "stream",
     "text": [
      "Total running cost: $0.004\n"
     ]
    }
   ],
   "source": [
    "check = create_chat_completion(SUBBED_MASTER_PROMPT, functions=[HIRE_AGENT_DESC, USE_TOOL_DESC], send_object=True)"
   ]
  },
  {
   "cell_type": "code",
   "execution_count": null,
   "id": "ea3c84f6",
   "metadata": {},
   "outputs": [],
   "source": [
    "from aitemplates import SingleApiManager\n",
    "\n",
    "api_manager = SingleApiManager()\n",
    "api_manager.total_cost"
   ]
  },
  {
   "cell_type": "code",
   "execution_count": 9,
   "id": "4d50096a",
   "metadata": {},
   "outputs": [
    {
     "data": {
      "text/plain": [
       "<OpenAIObject chat.completion id=chatcmpl-7aaHNBxh3EeAC9pyz5IBoh3xbFoUb at 0x263face24f0> JSON: {\n",
       "  \"choices\": [\n",
       "    {\n",
       "      \"finish_reason\": \"function_call\",\n",
       "      \"index\": 0,\n",
       "      \"message\": {\n",
       "        \"content\": null,\n",
       "        \"function_call\": {\n",
       "          \"arguments\": \"{}\",\n",
       "          \"name\": \"use_tool\"\n",
       "        },\n",
       "        \"role\": \"assistant\"\n",
       "      }\n",
       "    }\n",
       "  ],\n",
       "  \"created\": 1688953621,\n",
       "  \"id\": \"chatcmpl-7aaHNBxh3EeAC9pyz5IBoh3xbFoUb\",\n",
       "  \"model\": \"gpt-3.5-turbo-0613\",\n",
       "  \"object\": \"chat.completion\",\n",
       "  \"usage\": {\n",
       "    \"completion_tokens\": 7,\n",
       "    \"prompt_tokens\": 824,\n",
       "    \"total_tokens\": 831\n",
       "  }\n",
       "}"
      ]
     },
     "execution_count": 9,
     "metadata": {},
     "output_type": "execute_result"
    }
   ],
   "source": [
    "check"
   ]
  },
  {
   "cell_type": "code",
   "execution_count": null,
   "id": "519e439c",
   "metadata": {},
   "outputs": [],
   "source": []
  }
 ],
 "metadata": {
  "kernelspec": {
   "display_name": "Python 3",
   "language": "python",
   "name": "python3"
  },
  "language_info": {
   "codemirror_mode": {
    "name": "ipython",
    "version": 3
   },
   "file_extension": ".py",
   "mimetype": "text/x-python",
   "name": "python",
   "nbconvert_exporter": "python",
   "pygments_lexer": "ipython3",
   "version": "3.9.13"
  }
 },
 "nbformat": 4,
 "nbformat_minor": 5
}
